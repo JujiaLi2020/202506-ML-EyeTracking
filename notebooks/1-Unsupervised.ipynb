{
 "cells": [
  {
   "cell_type": "markdown",
   "id": "ad44305e-f60c-4222-a399-37ac123905d2",
   "metadata": {},
   "source": [
    "Unsupervised Eye-Tracking Analysis\n",
    "\n",
    "In the unsupervised portion of this analysis, we first standardized a selection of critical eye-tracking metrics (e.g., fixation duration, fixation count, saccade count, pupil size) from five metric catergories. Next, we employed HDBSCAN clustering to discover natural groupings or hidden strategy types in the data without relying on predefined labels. \n",
    "\n",
    "We then visualized these clusters using UMAP dimensionality reduction to interpret their spatial organization clearly.\n",
    "\n",
    "This method allowed us to objectively identify distinct gaze behavior patterns that could later be associated with cognitive strategies and performance accuracy."
   ]
  },
  {
   "cell_type": "code",
   "execution_count": 1,
   "id": "cc8bd961-3488-4ce1-9c71-f63a76ff9b70",
   "metadata": {},
   "outputs": [],
   "source": [
    "# Load Cleaned and Rated Data\n",
    "import pandas as pd\n",
    "\n",
    "# Update path to your cleaned eye-tracking dataset\n",
    "df = pd.read_csv(\"../data/eye_tracking_rated.csv\")"
   ]
  },
  {
   "cell_type": "code",
   "execution_count": null,
   "id": "e66faead-65be-4b58-b370-f010357ae7af",
   "metadata": {},
   "outputs": [],
   "source": [
    "# Select Eye-Tracking Metrics\n",
    "metrics = [\n",
    "    'FIXATION_COUNT',\n",
    "    'FIXATION_DURATION_MAX',\n",
    "    'FIXATION_DURATION_MIN',\n",
    "    'IA_COUNT',\n",
    "    'INPUT_COUNT',\n",
    "    'IP_DURATION',\n",
    "    'MEDIAN_FIXATION_DURATION',\n",
    "    'MEDIAN_SACCADE_AMPLITUDE',\n",
    "    'MESSAGE_COUNT',\n",
    "    'PUPIL_SIZE_MAX',\n",
    "    'PUPIL_SIZE_MEAN',\n",
    "    'PUPIL_SIZE_MIN'\n",
    "]\n",
    "\n",
    "# Extract selected metrics\n",
    "X = df[metrics]\n",
    "\n",
    "\n",
    "# === Step 3: Standardize Metrics ===\n",
    "from sklearn.preprocessing import StandardScaler\n",
    "\n",
    "scaler = StandardScaler()\n",
    "X_scaled = scaler.fit_transform(X)"
   ]
  }
 ],
 "metadata": {
  "kernelspec": {
   "display_name": "Python [conda env:base] *",
   "language": "python",
   "name": "conda-base-py"
  },
  "language_info": {
   "codemirror_mode": {
    "name": "ipython",
    "version": 3
   },
   "file_extension": ".py",
   "mimetype": "text/x-python",
   "name": "python",
   "nbconvert_exporter": "python",
   "pygments_lexer": "ipython3",
   "version": "3.13.5"
  }
 },
 "nbformat": 4,
 "nbformat_minor": 5
}
