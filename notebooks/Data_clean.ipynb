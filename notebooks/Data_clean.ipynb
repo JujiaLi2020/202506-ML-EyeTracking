{
 "cells": [
  {
   "cell_type": "markdown",
   "id": "43890d68-728c-44bf-ba1a-41b3b9db1b26",
   "metadata": {},
   "source": [
    "# 🧹 Cleaning Eye-Tracking Data\n",
    "\n",
    "This notebook loads, filters, and saves cleaned eye-tracking data for further analysis."
   ]
  },
  {
   "cell_type": "code",
   "execution_count": 12,
   "id": "a0c4e693-6dac-4767-a14c-b177bd54d991",
   "metadata": {},
   "outputs": [
    {
     "name": "stdout",
     "output_type": "stream",
     "text": [
      "All trials: 1679\n"
     ]
    }
   ],
   "source": [
    "# Import packages\n",
    "import pandas as pd\n",
    "\n",
    "# Load raw data\n",
    "df = pd.read_csv(\"../data/raw/eye_tracking_2025.csv\")\n",
    "df.head()\n",
    "print(f\"All trials: {len(df)}\")"
   ]
  },
  {
   "cell_type": "code",
   "execution_count": 13,
   "id": "a0975423-e9fa-4615-82cb-c9df69997879",
   "metadata": {},
   "outputs": [
    {
     "name": "stdout",
     "output_type": "stream",
     "text": [
      "✅ Remaining rows after dropping UNDEFINED trials: 1582\n"
     ]
    }
   ],
   "source": [
    "# Drop test trails, where any of the key fields are 'UNDEFINED'\n",
    "undefined_mask = (\n",
    "    (df['Session_Name_'] == 'UNDEFINED') |\n",
    "    (df['Trial_Index_'] == 'UNDEFINED') |\n",
    "    (df['result'] == 'UNDEFINED') |\n",
    "    (df['trialid'] == 'UNDEFINED')\n",
    ")\n",
    "\n",
    "df = df[~undefined_mask]\n",
    "\n",
    "print(f\"✅ Remaining rows after dropping UNDEFINED trials: {len(df)}\")\n"
   ]
  }
 ],
 "metadata": {
  "kernelspec": {
   "display_name": "Python [conda env:base] *",
   "language": "python",
   "name": "conda-base-py"
  },
  "language_info": {
   "codemirror_mode": {
    "name": "ipython",
    "version": 3
   },
   "file_extension": ".py",
   "mimetype": "text/x-python",
   "name": "python",
   "nbconvert_exporter": "python",
   "pygments_lexer": "ipython3",
   "version": "3.13.5"
  }
 },
 "nbformat": 4,
 "nbformat_minor": 5
}
